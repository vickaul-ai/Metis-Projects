{
 "cells": [
  {
   "cell_type": "code",
   "execution_count": null,
   "metadata": {},
   "outputs": [],
   "source": [
    "#\n",
    "# \n",
    "#\n",
    "\n"
   ]
  },
  {
   "cell_type": "code",
   "execution_count": null,
   "metadata": {},
   "outputs": [],
   "source": [
    "#\n",
    "# Following has to do with setting up the initial SQL database\n",
    "#\n",
    "\n",
    "\"\"\"\n",
    "# Create the DB -- Going forward you're in sqlite\n",
    "```commandline\n",
    "sqlite3 mta.db\n",
    "```\n",
    "​\n",
    "# Create the table\n",
    "```sql\n",
    "CREATE TABLE mta_data (\n",
    "\tCA TEXT,\n",
    "\tUNIT TEXT,\n",
    "\tSCP TEXT,\n",
    "\tSTATION TEXT,\n",
    "\tLINENAME TEXT,\n",
    "\tDIVISION TEXT,\n",
    "\tDATE TEXT,\n",
    "\tTIME TEXT,\n",
    "\tDESC TEXT,\n",
    "\tENTRIES INTEGER,\n",
    "\tEXITS INTEGER,\n",
    "\tPRIMARY KEY (CA,UNIT,SCP,STATION,LINENAME,DIVISION,DATE,TIME,DESC,ENTRIES,EXITS)\n",
    "\t);\n",
    "```\n",
    "​\n",
    "​\n",
    "# Try inserting one row of data into the table\n",
    "```sql\n",
    "INSERT INTO mta_data (\n",
    "\tCA,UNIT,SCP,STATION,LINENAME,DIVISION,DATE,TIME,DESC,ENTRIES,EXITS)\n",
    "\tVALUES ('A002','R051','02-00-00','59 ST','NQR456W','BMT','03/06/2021','03:00:00','REGULAR',0007540642,0002572027);\n",
    "```\n",
    "​\n",
    "# Try inserting an entire txt file -- note; that one row already inserted will be duplicated\n",
    "```sql\n",
    ".mode csv\n",
    ".import data/turnstile_210313.txt mta_data\n",
    "```\n",
    "\"\"\""
   ]
  },
  {
   "cell_type": "code",
   "execution_count": 3,
   "metadata": {},
   "outputs": [],
   "source": [
    "#\n",
    "# Use python to download the desired MTA txt files into the data directory\n",
    "#\n",
    "import urllib.request\n",
    "\n",
    "url = \"http://web.mta.info/developers/data/nyct/turnstile/turnstile_{}.txt\"\n",
    "week_nums = [210206, 210213, 210220, 210227, 210306, 190202, 190209, 190216, 190223,\n",
    "190302, 190309]\n",
    "\n",
    "for week_num in week_nums:\n",
    "    urllib.request.urlretrieve(f\"http://web.mta.info/developers/data/nyct/turnstile/turnstile_{week_num}.txt\",\n",
    "                               f\"data/turnstile_{week_num}.txt\")"
   ]
  },
  {
   "cell_type": "code",
   "execution_count": null,
   "metadata": {},
   "outputs": [],
   "source": [
    "#\n",
    "# Combine multiple text files into a single CSV\n",
    "#\n",
    "\n",
    "# Combine them into one big csv to load into sqlite \n",
    "```commandline\n",
    " head -1 turnstile_210313.txt > all_combined.csv\n",
    " tail -n +2 -q *.txt >> all_combined.csv\n",
    "```\n",
    "\n"
   ]
  },
  {
   "cell_type": "code",
   "execution_count": null,
   "metadata": {},
   "outputs": [],
   "source": [
    " \n",
    "# Go back to sqlite tab; load the big csv into sqlite\n",
    "```sql\n",
    ".import data/all_combined.csv mta_data \n",
    "```\n",
    "​\n",
    "# Now to extract to pandas using sqlalchemy\n",
    "```python\n",
    "from sqlalchemy import create_engine\n",
    "import pandas as pd\n",
    "​\n",
    "engine = create_engine(\"sqlite:///mta.db\")\n",
    "all_data = pd.read_sql('SELECT * FROM mta_data;', engine)"
   ]
  },
  {
   "cell_type": "code",
   "execution_count": null,
   "metadata": {},
   "outputs": [],
   "source": [
    "# Create the DB -- Going forward you're in sqlite\n",
    "```commandline\n",
    "sqlite3 mta.db\n",
    "```\n",
    "​\n",
    "# Create the table\n",
    "```sql\n",
    "CREATE TABLE mta_data (\n",
    "\tCA TEXT,\n",
    "\tUNIT TEXT,\n",
    "\tSCP TEXT,\n",
    "\tSTATION TEXT,\n",
    "\tLINENAME TEXT,\n",
    "\tDIVISION TEXT,\n",
    "\tDATE TEXT,\n",
    "\tTIME TEXT,\n",
    "\tDESC TEXT,\n",
    "\tENTRIES INTEGER,\n",
    "\tEXITS INTEGER,\n",
    "\tPRIMARY KEY (CA,UNIT,SCP,STATION,LINENAME,DIVISION,DATE,TIME,DESC,ENTRIES,EXITS)\n",
    "\t);\n",
    "```\n",
    "​\n",
    "​\n",
    "# Try inserting one row of data into the table\n",
    "```sql\n",
    "INSERT INTO mta_data (\n",
    "\tCA,UNIT,SCP,STATION,LINENAME,DIVISION,DATE,TIME,DESC,ENTRIES,EXITS)\n",
    "\tVALUES ('A002','R051','02-00-00','59 ST','NQR456W','BMT','03/06/2021','03:00:00','REGULAR',0007540642,0002572027);\n",
    "```\n",
    "​\n",
    "# Try inserting an entire txt file -- note; that one row already inserted will be duplicated\n",
    "```sql\n",
    ".mode csv\n",
    ".import data/turnstile_210313.txt mta_data\n",
    "```"
   ]
  },
  {
   "cell_type": "code",
   "execution_count": 1,
   "metadata": {},
   "outputs": [
    {
     "data": {
      "text/plain": [
       "'/Users/vickaul/Documents/Git/Metis-Projects/MTA-Project'"
      ]
     },
     "execution_count": 1,
     "metadata": {},
     "output_type": "execute_result"
    }
   ],
   "source": [
    "%pwd"
   ]
  },
  {
   "cell_type": "code",
   "execution_count": 5,
   "metadata": {},
   "outputs": [],
   "source": [
    "import pandas as pd"
   ]
  },
  {
   "cell_type": "code",
   "execution_count": null,
   "metadata": {},
   "outputs": [],
   "source": [
    "x = pd.read_csv"
   ]
  }
 ],
 "metadata": {
  "kernelspec": {
   "display_name": "Python 3",
   "language": "python",
   "name": "python3"
  },
  "language_info": {
   "codemirror_mode": {
    "name": "ipython",
    "version": 3
   },
   "file_extension": ".py",
   "mimetype": "text/x-python",
   "name": "python",
   "nbconvert_exporter": "python",
   "pygments_lexer": "ipython3",
   "version": "3.8.5"
  }
 },
 "nbformat": 4,
 "nbformat_minor": 4
}
